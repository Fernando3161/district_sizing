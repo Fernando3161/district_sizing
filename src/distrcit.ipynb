{
 "cells": [
  {
   "cell_type": "code",
   "execution_count": 1,
   "metadata": {},
   "outputs": [
    {
     "ename": "ModuleNotFoundError",
     "evalue": "No module named 'oemof'",
     "output_type": "error",
     "traceback": [
      "\u001b[1;31m---------------------------------------------------------------------------\u001b[0m",
      "\u001b[1;31mModuleNotFoundError\u001b[0m                       Traceback (most recent call last)",
      "Cell \u001b[1;32mIn[1], line 1\u001b[0m\n\u001b[1;32m----> 1\u001b[0m \u001b[39mimport\u001b[39;00m \u001b[39moemof\u001b[39;00m\u001b[39m.\u001b[39;00m\u001b[39msolph\u001b[39;00m \u001b[39mas\u001b[39;00m \u001b[39msolph\u001b[39;00m\n\u001b[0;32m      3\u001b[0m \u001b[39m# Create an energy system model\u001b[39;00m\n\u001b[0;32m      4\u001b[0m model \u001b[39m=\u001b[39m solph\u001b[39m.\u001b[39mModel()\n",
      "\u001b[1;31mModuleNotFoundError\u001b[0m: No module named 'oemof'"
     ]
    }
   ],
   "source": [
    "import oemof.solph as solph\n",
    "\n",
    "# Create an energy system model\n",
    "model = solph.Model()\n",
    "\n",
    "# Define the time horizon for the optimization (e.g., 24 hours)\n",
    "hours = range(24)\n",
    "\n",
    "# Create the electricity bus (grid)\n",
    "electricity_bus = solph.Bus(label='electricity_bus')\n",
    "model.add(electricity_bus)\n",
    "\n",
    "# Create the PV converter\n",
    "pv_converter = solph.Source(\n",
    "    label='pv_converter',\n",
    "    outputs={electricity_bus: solph.Flow(nominal_value=10e3, variable_costs=0)}\n",
    ")\n",
    "model.add(pv_converter)\n",
    "\n",
    "# Create the wind energy converter\n",
    "wind_converter = solph.Source(\n",
    "    label='wind_converter',\n",
    "    outputs={electricity_bus: solph.Flow(nominal_value=20e3, variable_costs=0)}\n",
    ")\n",
    "model.add(wind_converter)\n",
    "\n",
    "# Create the storage system\n",
    "storage = solph.components.GenericStorage(\n",
    "    label='storage',\n",
    "    inputs={\n",
    "        electricity_bus: solph.Flow(nominal_value=10e3, variable_costs=0)\n",
    "    },\n",
    "    outputs={\n",
    "        electricity_bus: solph.Flow(nominal_value=10e3, variable_costs=0)\n",
    "    },\n",
    "    nominal_storage_capacity=20e3,\n",
    "    inflow_conversion_factor=0.95,\n",
    "    outflow_conversion_factor=0.95,\n",
    "    loss_rate=0.01,\n",
    "    initial_storage_level=None  # Can be set to a specific value if desired\n",
    ")\n",
    "model.add(storage)\n",
    "\n",
    "# Create the electric load\n",
    "electric_load = solph.Sink(\n",
    "    label='electric_load',\n",
    "    inputs={electricity_bus: solph.Flow()}\n",
    ")\n",
    "model.add(electric_load)\n",
    "\n",
    "# Define the objective function\n",
    "model.objective = solph.Minimize(solph.LinearExpression(\n",
    "    sum(flow.variable_costs.sum() for flow in model.flows)\n",
    "))\n",
    "\n",
    "# Optimize the model\n",
    "solver = solph.Solver()\n",
    "results = solver.solve(model)\n",
    "\n",
    "# Access the optimized results\n",
    "energies = results[model.groups[0]]\n",
    "\n",
    "# Print the optimized energy flows\n",
    "for hour in hours:\n",
    "    print(f\"Hour {hour}:\")\n",
    "    for flow in energies:\n",
    "        print(f\"{flow}: {energies[flow][hour]}\")\n"
   ]
  }
 ],
 "metadata": {
  "kernelspec": {
   "display_name": "sizing",
   "language": "python",
   "name": "python3"
  },
  "language_info": {
   "codemirror_mode": {
    "name": "ipython",
    "version": 3
   },
   "file_extension": ".py",
   "mimetype": "text/x-python",
   "name": "python",
   "nbconvert_exporter": "python",
   "pygments_lexer": "ipython3",
   "version": "3.9.17"
  },
  "orig_nbformat": 4
 },
 "nbformat": 4,
 "nbformat_minor": 2
}
